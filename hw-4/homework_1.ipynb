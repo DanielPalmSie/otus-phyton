{
  "cells": [
    {
      "cell_type": "markdown",
      "metadata": {
        "id": "o6-kx3sreDfa"
      },
      "source": [
        "# <center> Homework 1 </center>"
      ]
    },
    {
      "cell_type": "markdown",
      "metadata": {
        "id": "oReqWPECeDfb"
      },
      "source": [
        "# 0. Где мы сейчас?\n",
        "<img src=\"https://upload.wikimedia.org/wikipedia/commons/thumb/3/38/Jupyter_logo.svg/1200px-Jupyter_logo.svg.png\" width=\"150\">\n",
        "\n",
        "[Jupyter Notebook](https://jupyter.org/) - интерактивная среда для запуска программного кода в браузере. Удобный инструмент для анализа данных, который используется многими специалистами по data science. Позволяет выполнять отдельные ячейки с кодом, а не всю программу сразу, что очень удобно при знакомстве с данными."
      ]
    },
    {
      "cell_type": "markdown",
      "metadata": {
        "id": "iwskTD4qeDfb"
      },
      "source": [
        "# 1. Python\n",
        "> Python - это свободный интерпретируемый объектно-ориентированный расширяемый встраиваемый язык программирования очень высокого уровня\n",
        "\n",
        ">*(Г.Россум, Ф.Л.Дж.Дрейк, Д.С.Откидач \"Язык программирования Python\").*\n",
        "\n",
        "А если без цитат, то питон - это просто очень крутой язык, созданный в 1991 году [Великодушным пожизненным диктатором](https://ru.wikipedia.org/wiki/%D0%92%D0%B5%D0%BB%D0%B8%D0%BA%D0%BE%D0%B4%D1%83%D1%88%D0%BD%D1%8B%D0%B9_%D0%BF%D0%BE%D0%B6%D0%B8%D0%B7%D0%BD%D0%B5%D0%BD%D0%BD%D1%8B%D0%B9_%D0%B4%D0%B8%D0%BA%D1%82%D0%B0%D1%82%D0%BE%D1%80) Гвидо ван Россумом и названный в честь любимого им шоу [Monty Python's Flying Circus](https://en.wikipedia.org/wiki/Monty_Python%27s_Flying_Circus)\n",
        "\n",
        "<img src=\"https://advancelocal-adapter-image-uploads.s3.amazonaws.com/image.oregonlive.com/home/olive-media/width2048/img/tv/photo/2018/10/10/montycastjpg-7ef393e2355a42aa.jpg\" width=\"300\">"
      ]
    },
    {
      "cell_type": "markdown",
      "metadata": {
        "id": "6PEiDuWLeDfc"
      },
      "source": [
        "# 2. Anaconda\n",
        "\n",
        "<img src=\"https://cdn-images-1.medium.com/max/1600/0*MVkCW8_Bmj-nuAnI.png\" width=\"300\">\n",
        "\n",
        "[Сборка Anaconda](https://www.anaconda.com/products/individual) включает очень много полезных библиотек для анализа данных.\n",
        "\n",
        "Среди наиболее популярных библиотек:\n",
        " - <a href=\"http://numpy.org\">Numpy</a> - это один из основных пакетов для математических вычислений. Он содержит средства для работы с многомерными массивами и высокоуровневыми математическими функциями\n",
        " - <a href=\"https://www.scipy.org/\">SciPy</a> - научные вычисления. Методы оптимизации, интегрирования, модули обработки сигналов и изображений, статистика, линейная алгебра, сплайны, кластеризация и многое другое\n",
        " -  <a href=\"http://pandas.pydata.org/\">Pandas</a> - основная библиотека для обработки и анализа данных. Предназначена для данных разной природы - матричных, панельных данных, временных рядов. Претендует на звание самого мощного и гибкого средства для анализа данных с открытым исходным кодом\n",
        " - <a href=\"http://scikit-learn.org/stable/\">Scikit-learn</a> - реализация очень многих методов машинного обучения с отличной документацией.\n",
        " - <a href=\"http://http://matplotlib.org/\">matplotlib</a> - хорошая библиотека для визуализации данных"
      ]
    },
    {
      "cell_type": "markdown",
      "metadata": {
        "id": "RA4xZK7KeDfc"
      },
      "source": [
        "# 3. Задачки"
      ]
    },
    {
      "cell_type": "markdown",
      "metadata": {
        "id": "NdzJUlExeDfc"
      },
      "source": [
        "## Задача 1\n",
        "$N$ хоббитов делят $K$ кусков эльфийского хлеба поровну, не делящийся нацело остаток остается в корзинке у Сэма. Напишите функцию, которая принимает на вход параметры $N$ и $K$ и возвращает два числа: $x$ - cколько кусков эльфиского хлеба достанется каждому хоббиту, и $y$ - сколько кусков остаётся в корзинке."
      ]
    },
    {
      "cell_type": "code",
      "execution_count": 9,
      "metadata": {
        "id": "Jk7ZGMlLeDfc"
      },
      "outputs": [],
      "source": [
        "def share_bread(N, K):\n",
        "\n",
        "    x = K // N\n",
        "\n",
        "    y = K % N\n",
        "    return x, y\n",
        "\n",
        "\n",
        "# если в функции всё верно, то после выполнения этой строчки, не должно выскакивать ошибок\n",
        "assert share_bread(N=3, K=14) == (4, 2)"
      ]
    },
    {
      "cell_type": "markdown",
      "metadata": {
        "id": "Tbfc2DxyeDfd"
      },
      "source": [
        "## Задача 2\n",
        "\n",
        "В копях Мории хоббиты нашли стену, на которой высечены разные натуральные числа. Согласно древним сказаниям, это даты сражений. Хоббиты знают, что сражения происходили только по високосным годам. Помогите хоббитам определить, является ли год с данным числом датой великого сражения. Если это так, то верните строку \"YOU SHALL PASS\", иначе верните \"YOU SHALL NOT PASS\". Напомним, что в соответствии с хоббитским календарем, год является високосным, если его номер кратен 4, но не кратен 100, а также если он кратен 400."
      ]
    },
    {
      "cell_type": "code",
      "execution_count": 10,
      "metadata": {
        "id": "66_IH7mfeDfd"
      },
      "outputs": [],
      "source": [
        "def leap_year(year):\n",
        "    text_result = \"YOU SHALL NOT PASS\"\n",
        "    if (year % 4 == 0) and ((year % 100 != 0) or (year % 400 == 0)):\n",
        "        text_result = \"YOU SHALL PASS\"\n",
        "    return text_result\n",
        "\n",
        "\n",
        "assert leap_year(5) == \"YOU SHALL NOT PASS\""
      ]
    },
    {
      "cell_type": "markdown",
      "metadata": {
        "id": "sAVAUlo4eDfd"
      },
      "source": [
        "## Задача 3\n",
        "<img src=\"http://i0.kym-cdn.com/photos/images/original/001/187/255/5e9.gif\" width=300>\n",
        "Для могущественного магического ритуала Гендальфу необходимо быстро подсчитывать площадь своего амулета, который умеет менять размеры. Известно, что амулет имеет форму треугольника и Гендальф знает длину каждой из сторон. Напишите функцию, которая считает площадь амулета по трем сторонам.  \n",
        "\n",
        "Подсказка: используйте формулу Герона\n",
        "$$ S = \\sqrt{p(p-a)(p-b)(p-c)} $$\n",
        "$$ p = \\frac{a + b + c}{2}$$\n"
      ]
    },
    {
      "cell_type": "code",
      "execution_count": 13,
      "metadata": {
        "id": "sVx4riICeDfd"
      },
      "outputs": [],
      "source": [
        "import math\n",
        "\n",
        "\n",
        "def amulet_area(a, b, c):\n",
        "    p = (a + b + c) / 2\n",
        "    return math.sqrt(p * (p - a) * (p - b) * (p - c))\n",
        "\n",
        "\n",
        "assert amulet_area(3, 4, 5) == 6"
      ]
    },
    {
      "cell_type": "markdown",
      "metadata": {
        "id": "M8rjp_RzeDfd"
      },
      "source": [
        "## Задача 4\n",
        "\n",
        "Хоббиты собираются пешком идти до Мордора и им нужно подсчитать расстояние, которое им предстоит пройти. Хоббиты смогли вспомнить сразу несколько метрик расстояния: евклидово, манхэттена и косинусное, так что ваша задача - напистаь функцию под каждую из них. Важное условие - используйте только базовые функции numpy для решения.\n",
        "\n",
        "\n",
        "* Евклидово расстояние\n",
        "$$ d(a, b) = \\sqrt{\\sum_i (a_i - b_i)^2} $$\n",
        "* Расстояние Манхэттена\n",
        "$$ d(a, b) = \\sum_i |a_i - b_i| $$\n",
        "* Косинусное расстояние\n",
        "$$ d(a, b) = 1 - \\frac{a^\\top b}{||a||_2\\cdot||b||_2}$$"
      ]
    },
    {
      "cell_type": "code",
      "execution_count": 14,
      "metadata": {
        "id": "vKtuKo4MeDfd"
      },
      "outputs": [],
      "source": [
        "import numpy as np\n",
        "import scipy.spatial.distance as ds\n",
        "\n",
        "\n",
        "def cal_euclidean(a, b):\n",
        "\n",
        "    return sum((x - y) ** 2 for x, y in zip(a, b)) ** 0.5\n",
        "\n",
        "\n",
        "\n",
        "def cal_manhattan(a, b):\n",
        "\n",
        "    return sum((x - y) for (x, y) in zip(a, b))\n",
        "\n",
        "\n",
        "\n",
        "def cal_cosine(a, b):\n",
        "    return ds.cosine(a, b)"
      ]
    },
    {
      "cell_type": "code",
      "execution_count": 15,
      "metadata": {
        "colab": {
          "base_uri": "https://localhost:8080/"
        },
        "id": "kRyjgRrneDfe",
        "outputId": "70f0cda1-3f44-46ee-cd26-4cf0a37145cb"
      },
      "outputs": [
        {
          "output_type": "stream",
          "name": "stdout",
          "text": [
            "32.4037034920393\n",
            "10\n",
            "1.2964687850278998\n"
          ]
        }
      ],
      "source": [
        "a = np.random.randint(-10, 10, size=10)\n",
        "b = np.random.randint(-10, 10, size=10)\n",
        "print(cal_euclidean(a, b))\n",
        "print(cal_manhattan(a, b))\n",
        "print(cal_cosine(a, b))"
      ]
    },
    {
      "cell_type": "markdown",
      "metadata": {
        "id": "bszrWi1AeDfe"
      },
      "source": [
        "## Задача 5\n",
        "\n",
        "Ну и напоследок, еще немного практики numpy, без которой не обходится ни один хоббит.\n"
      ]
    },
    {
      "cell_type": "markdown",
      "metadata": {
        "id": "gG_fUmlueDfe"
      },
      "source": [
        "Создайте случайный array (`np.random.rand()`) длинной 100. Преобразуйте его так, чтобы\n",
        "* Максимальный элемент(ы) был равен 1\n",
        "* Минимальный элемент(ы) был равен 0\n",
        "* Остальные элементы в итнтервале от 0 до 1 остаются прежними"
      ]
    },
    {
      "cell_type": "code",
      "execution_count": 16,
      "metadata": {
        "colab": {
          "base_uri": "https://localhost:8080/"
        },
        "id": "te79Mz_YeDfe",
        "outputId": "dff398ff-2e32-4376-b427-13d077228335"
      },
      "outputs": [
        {
          "output_type": "stream",
          "name": "stdout",
          "text": [
            "1.0 0.0\n",
            "[0.89228447 0.71463221 0.23565436 0.35419147 0.19439446 0.69895619\n",
            " 0.27960492 0.59976636 0.49717037 0.40396797 0.9490088  0.16013109\n",
            " 0.24007894 0.4944458  0.71484579 0.70878917 0.         0.49217097\n",
            " 0.21355888 0.02089825 0.31106582 0.79601242 0.49326217 0.23220843\n",
            " 0.82444662 0.07131653 0.17682494 0.56898399 0.50294286 0.27109498\n",
            " 0.87512571 0.31846442 0.25150685 1.         0.26744281 0.21729097\n",
            " 0.59275661 0.130432   0.96028469 0.87422689 0.18512844 0.20615656\n",
            " 0.35520046 0.0593217  0.75044449 0.62498661 0.79429754 0.68303248\n",
            " 0.71288352 0.23469557 0.9682564  0.1563673  0.89696716 0.45207477\n",
            " 0.27940575 0.21480693 0.52441081 0.35835104 0.79314987 0.52603213\n",
            " 0.25736066 0.39864361 0.04403057 0.85990079 0.76393372 0.38698048\n",
            " 0.28158474 0.8853086  0.91248195 0.54867018 0.95270005 0.81587856\n",
            " 0.8695441  0.32711406 0.2258826  0.40668704 0.04519305 0.66632559\n",
            " 0.61544796 0.18594022 0.63294673 0.83302646 0.28468176 0.21707386\n",
            " 0.41073371 0.27620035 0.20277644 0.57410926 0.93025447 0.74057888\n",
            " 0.97572985 0.16050698 0.24919874 0.70451188 0.05036652 0.73592782\n",
            " 0.09295771 0.55260703 0.12230385 0.54650748]\n"
          ]
        }
      ],
      "source": [
        "import numpy as np\n",
        "rng = np.random.default_rng()\n",
        "my_array = rng.random((100,))\n",
        "my_array[my_array.argmax()]=1\n",
        "my_array[my_array.argmin()]=0\n",
        "\n",
        "print(np.max(my_array), np.min(my_array))\n",
        "print(my_array)"
      ]
    },
    {
      "cell_type": "markdown",
      "metadata": {
        "id": "bYUptarzeDfe"
      },
      "source": [
        "Создайте array размером $5 \\times 6$ с целыми числами в интервале [0,50]. Напечатайте колонку, которая содержит максимальный элемент полученной матрицы"
      ]
    },
    {
      "cell_type": "code",
      "execution_count": null,
      "metadata": {
        "id": "_2SW8L9BeDfe",
        "outputId": "6c73d4c7-9c5f-4c57-8996-157eee4bfb87"
      },
      "outputs": [
        {
          "name": "stdout",
          "output_type": "stream",
          "text": [
            "Shape:  (5, 6)\n",
            "Array\n",
            "[[37 20 41 31  4 39]\n",
            " [23 30  7 15 25 37]\n",
            " [22 20  1 27  6 38]\n",
            " [ 6 14 44 47  5 46]\n",
            " [25 13 37 23  0 28]]\n",
            "[31 15 27 47 23]\n"
          ]
        }
      ],
      "source": [
        "import numpy as np\n",
        "rng = np.random.default_rng()\n",
        "my_array = rng.integers(0,50,(5,6))\n",
        "\n",
        "selected_column =my_array[:,(np.argmax(my_array)%6)]\n",
        "print('Shape: ',my_array.shape)\n",
        "print('Array')\n",
        "print(my_array)\n",
        "print(selected_column)"
      ]
    },
    {
      "cell_type": "markdown",
      "metadata": {
        "id": "YY59EGlfeDff"
      },
      "source": [
        "Напишите функцию, которая принимает на вохд матрицу (array) X и возвращает все её уникальные строки в виде новой матрицы."
      ]
    },
    {
      "cell_type": "code",
      "execution_count": 23,
      "metadata": {
        "id": "JTc8rXhkeDff"
      },
      "outputs": [],
      "source": [
        "import numpy as np\n",
        "\n",
        "def get_unique_rows(X):\n",
        "    X_unique = []\n",
        "    for i in range(0, np.shape(X)[0]):\n",
        "        if not np.array(X[i, :]).tolist() in X_unique:\n",
        "            X_unique.append(np.array(X[i, :]).tolist())\n",
        "    return X_unique"
      ]
    },
    {
      "cell_type": "code",
      "execution_count": 24,
      "metadata": {
        "colab": {
          "base_uri": "https://localhost:8080/",
          "height": 176
        },
        "id": "lrYTlqleeDff",
        "outputId": "dfcfbbd2-74f1-46d3-a9be-5fb1838ea4fb"
      },
      "outputs": [
        {
          "output_type": "error",
          "ename": "NameError",
          "evalue": "name 'X' is not defined",
          "traceback": [
            "\u001b[0;31m---------------------------------------------------------------------------\u001b[0m",
            "\u001b[0;31mNameError\u001b[0m                                 Traceback (most recent call last)",
            "\u001b[0;32m<ipython-input-24-300eaa645d66>\u001b[0m in \u001b[0;36m<cell line: 0>\u001b[0;34m()\u001b[0m\n\u001b[1;32m      1\u001b[0m \u001b[0mV\u001b[0m \u001b[0;34m=\u001b[0m \u001b[0mnp\u001b[0m\u001b[0;34m.\u001b[0m\u001b[0mrandom\u001b[0m\u001b[0;34m.\u001b[0m\u001b[0mrandint\u001b[0m\u001b[0;34m(\u001b[0m\u001b[0;36m4\u001b[0m\u001b[0;34m,\u001b[0m \u001b[0;36m6\u001b[0m\u001b[0;34m,\u001b[0m \u001b[0msize\u001b[0m\u001b[0;34m=\u001b[0m\u001b[0;34m(\u001b[0m\u001b[0;36m10\u001b[0m\u001b[0;34m,\u001b[0m\u001b[0;36m3\u001b[0m\u001b[0;34m)\u001b[0m\u001b[0;34m)\u001b[0m\u001b[0;34m\u001b[0m\u001b[0;34m\u001b[0m\u001b[0m\n\u001b[0;32m----> 2\u001b[0;31m \u001b[0mprint\u001b[0m\u001b[0;34m(\u001b[0m\u001b[0mnp\u001b[0m\u001b[0;34m.\u001b[0m\u001b[0mshape\u001b[0m\u001b[0;34m(\u001b[0m\u001b[0mX\u001b[0m\u001b[0;34m)\u001b[0m\u001b[0;34m)\u001b[0m\u001b[0;34m\u001b[0m\u001b[0;34m\u001b[0m\u001b[0m\n\u001b[0m\u001b[1;32m      3\u001b[0m \u001b[0mprint\u001b[0m\u001b[0;34m(\u001b[0m\u001b[0mX\u001b[0m\u001b[0;34m)\u001b[0m\u001b[0;34m\u001b[0m\u001b[0;34m\u001b[0m\u001b[0m\n",
            "\u001b[0;31mNameError\u001b[0m: name 'X' is not defined"
          ]
        }
      ],
      "source": [
        "V = np.random.randint(4, 6, size=(10,3))\n",
        "print(np.shape(X))\n",
        "print(X)"
      ]
    },
    {
      "cell_type": "code",
      "execution_count": 22,
      "metadata": {
        "colab": {
          "base_uri": "https://localhost:8080/",
          "height": 141
        },
        "id": "us8n-WOkeDff",
        "outputId": "c5b175fa-d431-40da-dba8-e4f29d2006b5"
      },
      "outputs": [
        {
          "output_type": "error",
          "ename": "NameError",
          "evalue": "name 'X' is not defined",
          "traceback": [
            "\u001b[0;31m---------------------------------------------------------------------------\u001b[0m",
            "\u001b[0;31mNameError\u001b[0m                                 Traceback (most recent call last)",
            "\u001b[0;32m<ipython-input-22-8ee65d8a2ee3>\u001b[0m in \u001b[0;36m<cell line: 0>\u001b[0;34m()\u001b[0m\n\u001b[0;32m----> 1\u001b[0;31m \u001b[0mget_unique_rows\u001b[0m\u001b[0;34m(\u001b[0m\u001b[0mX\u001b[0m\u001b[0;34m)\u001b[0m\u001b[0;34m\u001b[0m\u001b[0;34m\u001b[0m\u001b[0m\n\u001b[0m",
            "\u001b[0;31mNameError\u001b[0m: name 'X' is not defined"
          ]
        }
      ],
      "source": [
        "get_unique_rows(X)"
      ]
    }
  ],
  "metadata": {
    "kernelspec": {
      "display_name": "Python 3",
      "language": "python",
      "name": "python3"
    },
    "language_info": {
      "codemirror_mode": {
        "name": "ipython",
        "version": 3
      },
      "file_extension": ".py",
      "mimetype": "text/x-python",
      "name": "python",
      "nbconvert_exporter": "python",
      "pygments_lexer": "ipython3",
      "version": "3.12.6"
    },
    "varInspector": {
      "cols": {
        "lenName": 16,
        "lenType": 16,
        "lenVar": 40
      },
      "kernels_config": {
        "python": {
          "delete_cmd_postfix": "",
          "delete_cmd_prefix": "del ",
          "library": "var_list.py",
          "varRefreshCmd": "print(var_dic_list())"
        },
        "r": {
          "delete_cmd_postfix": ") ",
          "delete_cmd_prefix": "rm(",
          "library": "var_list.r",
          "varRefreshCmd": "cat(var_dic_list()) "
        }
      },
      "types_to_exclude": [
        "module",
        "function",
        "builtin_function_or_method",
        "instance",
        "_Feature"
      ],
      "window_display": false
    },
    "colab": {
      "provenance": []
    }
  },
  "nbformat": 4,
  "nbformat_minor": 0
}